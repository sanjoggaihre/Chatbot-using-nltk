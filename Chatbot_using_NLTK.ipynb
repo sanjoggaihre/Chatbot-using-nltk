{
  "nbformat": 4,
  "nbformat_minor": 0,
  "metadata": {
    "colab": {
      "provenance": [],
      "authorship_tag": "ABX9TyP1LEw/LeMaF3A1SAyBWYDu",
      "include_colab_link": true
    },
    "kernelspec": {
      "name": "python3",
      "display_name": "Python 3"
    },
    "language_info": {
      "name": "python"
    }
  },
  "cells": [
    {
      "cell_type": "markdown",
      "metadata": {
        "id": "view-in-github",
        "colab_type": "text"
      },
      "source": [
        "<a href=\"https://colab.research.google.com/github/sanjoggaihre/Chatbot-using-nltk/blob/main/Chatbot_using_NLTK.ipynb\" target=\"_parent\"><img src=\"https://colab.research.google.com/assets/colab-badge.svg\" alt=\"Open In Colab\"/></a>"
      ]
    },
    {
      "cell_type": "code",
      "execution_count": 194,
      "metadata": {
        "id": "x52ZGv95HEHR"
      },
      "outputs": [],
      "source": [
        "import nltk\n",
        "import random\n",
        "import string\n",
        "from sklearn.feature_extraction.text import TfidfVectorizer\n",
        "from sklearn.metrics.pairwise import cosine_similarity\n",
        "import warnings"
      ]
    },
    {
      "cell_type": "code",
      "source": [
        "f = open(\"/content/data.txt\", \"r\")\n",
        "text = f.read()"
      ],
      "metadata": {
        "id": "lFeYYtfeMLlz"
      },
      "execution_count": 197,
      "outputs": []
    },
    {
      "cell_type": "code",
      "source": [],
      "metadata": {
        "id": "4MquurnGKhp6"
      },
      "execution_count": 158,
      "outputs": []
    },
    {
      "cell_type": "code",
      "source": [
        "#downloading the tokenizer from nltk\n",
        "nltk.download('punkt')  #it divides the text into list of sentences\n"
      ],
      "metadata": {
        "colab": {
          "base_uri": "https://localhost:8080/"
        },
        "id": "NdLJ4p81sJkP",
        "outputId": "cb92e1f9-bc91-4397-e587-7e6a1e74ca97"
      },
      "execution_count": 159,
      "outputs": [
        {
          "output_type": "stream",
          "name": "stderr",
          "text": [
            "[nltk_data] Downloading package punkt to /root/nltk_data...\n",
            "[nltk_data]   Package punkt is already up-to-date!\n"
          ]
        },
        {
          "output_type": "execute_result",
          "data": {
            "text/plain": [
              "True"
            ]
          },
          "metadata": {},
          "execution_count": 159
        }
      ]
    },
    {
      "cell_type": "code",
      "source": [
        "sent_tokens = nltk.sent_tokenize(text)\n",
        "sent_tokens = [token.lower() for token in sent_tokens]\n",
        "# print(sent_tokens)"
      ],
      "metadata": {
        "id": "JvYbo4FNuJ8u"
      },
      "execution_count": 198,
      "outputs": []
    },
    {
      "cell_type": "code",
      "source": [
        "#for removing punctuation\n",
        "remove_punct_dict = {}\n",
        "for punct in string.punctuation:\n",
        "  remove_punct_dict [ord(punct)] =  None\n",
        "\n",
        "print(remove_punct_dict)"
      ],
      "metadata": {
        "colab": {
          "base_uri": "https://localhost:8080/"
        },
        "id": "g6lP0ZpHuaJr",
        "outputId": "5f54d816-a854-4c44-d350-168157a6c6c3"
      },
      "execution_count": 171,
      "outputs": [
        {
          "output_type": "stream",
          "name": "stdout",
          "text": [
            "{33: None, 34: None, 35: None, 36: None, 37: None, 38: None, 39: None, 40: None, 41: None, 42: None, 43: None, 44: None, 45: None, 46: None, 47: None, 58: None, 59: None, 60: None, 61: None, 62: None, 63: None, 64: None, 91: None, 92: None, 93: None, 94: None, 95: None, 96: None, 123: None, 124: None, 125: None, 126: None}\n"
          ]
        }
      ]
    },
    {
      "cell_type": "code",
      "source": [
        "def LemNormalize(text):\n",
        "  return nltk.word_tokenize(text.lower().translate(remove_punct_dict))\n",
        "\n",
        "print(LemNormalize(text))"
      ],
      "metadata": {
        "colab": {
          "base_uri": "https://localhost:8080/"
        },
        "id": "Y3lZ2yOzwV4Q",
        "outputId": "e8d72879-dcbf-4893-f412-14b150d683c8"
      },
      "execution_count": 172,
      "outputs": [
        {
          "output_type": "stream",
          "name": "stdout",
          "text": [
            "['artificial', 'intelligence', 'ai', 'is', 'intelligence—perceiving', 'synthesizing', 'and', 'inferring', 'information—demonstrated', 'by', 'machines', 'as', 'opposed', 'to', 'intelligence', 'displayed', 'by', 'nonhuman', 'animals', 'and', 'humans', 'example', 'tasks', 'in', 'which', 'this', 'is', 'done', 'include', 'speech', 'recognition', 'computer', 'vision', 'translation', 'between', 'natural', 'languages', 'as', 'well', 'as', 'other', 'mappings', 'of', 'inputs', 'ai', 'applications', 'include', 'advanced', 'web', 'search', 'engines', 'eg', 'google', 'search', 'recommendation', 'systems', 'used', 'by', 'youtube', 'amazon', 'and', 'netflix', 'understanding', 'human', 'speech', 'such', 'as', 'siri', 'and', 'alexa', 'selfdriving', 'cars', 'eg', 'waymo', 'generative', 'or', 'creative', 'tools', 'chatgpt', 'and', 'ai', 'art', 'automated', 'decisionmaking', 'and', 'competing', 'at', 'the', 'highest', 'level', 'in', 'strategic', 'game', 'systems', 'such', 'as', 'chess', 'and', 'go1', 'as', 'machines', 'become', 'increasingly', 'capable', 'tasks', 'considered', 'to', 'require', 'intelligence', 'are', 'often', 'removed', 'from', 'the', 'definition', 'of', 'ai', 'a', 'phenomenon', 'known', 'as', 'the', 'ai', 'effect2', 'for', 'instance', 'optical', 'character', 'recognition', 'is', 'frequently', 'excluded', 'from', 'things', 'considered', 'to', 'be', 'ai3', 'having', 'become', 'a', 'routine', 'technology4', 'artificial', 'intelligence', 'was', 'founded', 'as', 'an', 'academic', 'discipline', 'in', '1956', 'and', 'in', 'the', 'years', 'since', 'it', 'has', 'experienced', 'several', 'waves', 'of', 'optimism56', 'followed', 'by', 'disappointment', 'and', 'the', 'loss', 'of', 'funding', 'known', 'as', 'an', 'ai', 'winter78', 'followed', 'by', 'new', 'approaches', 'success', 'and', 'renewed', 'funding69', 'ai', 'research', 'has', 'tried', 'and', 'discarded', 'many', 'different', 'approaches', 'including', 'simulating', 'the', 'brain', 'modeling', 'human', 'problem', 'solving', 'formal', 'logic', 'large', 'databases', 'of', 'knowledge', 'and', 'imitating', 'animal', 'behavior', 'in', 'the', 'first', 'decades', 'of', 'the', '21st', 'century', 'highly', 'mathematical', 'and', 'statistical', 'machine', 'learning', 'has', 'dominated', 'the', 'field', 'and', 'this', 'technique', 'has', 'proved', 'highly', 'successful', 'helping', 'to', 'solve', 'many', 'challenging', 'problems', 'throughout', 'industry', 'and', 'academia910', 'the', 'various', 'subfields', 'of', 'ai', 'research', 'are', 'centered', 'around', 'particular', 'goals', 'and', 'the', 'use', 'of', 'particular', 'tools', 'the', 'traditional', 'goals', 'of', 'ai', 'research', 'include', 'reasoning', 'knowledge', 'representation', 'planning', 'learning', 'natural', 'language', 'processing', 'perception', 'and', 'the', 'ability', 'to', 'move', 'and', 'manipulate', 'objectsa', 'general', 'intelligence', 'the', 'ability', 'to', 'solve', 'an', 'arbitrary', 'problem', 'is', 'among', 'the', 'fields', 'longterm', 'goals11', 'to', 'solve', 'these', 'problems', 'ai', 'researchers', 'have', 'adapted', 'and', 'integrated', 'a', 'wide', 'range', 'of', 'problemsolving', 'techniques', 'including', 'search', 'and', 'mathematical', 'optimization', 'formal', 'logic', 'artificial', 'neural', 'networks', 'and', 'methods', 'based', 'on', 'statistics', 'probability', 'and', 'economics', 'ai', 'also', 'draws', 'upon', 'computer', 'science', 'psychology', 'linguistics', 'philosophy', 'and', 'many', 'other', 'fields', 'the', 'field', 'was', 'founded', 'on', 'the', 'assumption', 'that', 'human', 'intelligence', 'can', 'be', 'so', 'precisely', 'described', 'that', 'a', 'machine', 'can', 'be', 'made', 'to', 'simulate', 'itb', 'this', 'raised', 'philosophical', 'arguments', 'about', 'the', 'mind', 'and', 'the', 'ethical', 'consequences', 'of', 'creating', 'artificial', 'beings', 'endowed', 'with', 'humanlike', 'intelligence', 'these', 'issues', 'have', 'previously', 'been', 'explored', 'by', 'myth', 'fiction', 'and', 'philosophy', 'since', 'antiquity13', 'computer', 'scientists', 'and', 'philosophers', 'have', 'since', 'suggested', 'that', 'ai', 'may', 'become', 'an', 'existential', 'risk', 'to', 'humanity', 'if', 'its', 'rational', 'capacities', 'are', 'not', 'steered', 'towards', 'beneficial', 'goalsc', 'the', 'term', 'artificial', 'intelligence', 'has', 'also', 'been', 'criticized', 'for', 'overhyping', 'ais', 'true', 'technological', 'capabilities', 'artificial', 'beings', 'with', 'intelligence', 'appeared', 'as', 'storytelling', 'devices', 'in', 'antiquity17', 'and', 'have', 'been', 'common', 'in', 'fiction', 'as', 'in', 'mary', 'shelleys', 'frankenstein', 'or', 'karel', 'čapeks', 'rur18', 'these', 'characters', 'and', 'their', 'fates', 'raised', 'many', 'of', 'the', 'same', 'issues', 'now', 'discussed', 'in', 'the', 'ethics', 'of', 'artificial', 'intelligence19', 'the', 'study', 'of', 'mechanical', 'or', 'formal', 'reasoning', 'began', 'with', 'philosophers', 'and', 'mathematicians', 'in', 'antiquity', 'the', 'study', 'of', 'mathematical', 'logic', 'led', 'directly', 'to', 'alan', 'turings', 'theory', 'of', 'computation', 'which', 'suggested', 'that', 'a', 'machine', 'by', 'shuffling', 'symbols', 'as', 'simple', 'as', '0', 'and', '1', 'could', 'simulate', 'any', 'conceivable', 'act', 'of', 'mathematical', 'deduction', 'this', 'insight', 'that', 'digital', 'computers', 'can', 'simulate', 'any', 'process', 'of', 'formal', 'reasoning', 'is', 'known', 'as', 'the', 'church–turing', 'thesis20', 'this', 'along', 'with', 'concurrent', 'discoveries', 'in', 'neurobiology', 'information', 'theory', 'and', 'cybernetics', 'led', 'researchers', 'to', 'consider', 'the', 'possibility', 'of', 'building', 'an', 'electronic', 'brain21', 'the', 'first', 'work', 'that', 'is', 'now', 'generally', 'recognized', 'as', 'ai', 'was', 'mccullouch', 'and', 'pitts', '1943', 'formal', 'design', 'for', 'turingcomplete', 'artificial', 'neurons22', 'by', 'the', '1950s', 'two', 'visions', 'for', 'how', 'to', 'achieve', 'machine', 'intelligence', 'emerged', 'one', 'vision', 'known', 'as', 'symbolic', 'ai', 'or', 'gofai', 'was', 'to', 'use', 'computers', 'to', 'create', 'a', 'symbolic', 'representation', 'of', 'the', 'world', 'and', 'systems', 'that', 'could', 'reason', 'about', 'the', 'world', 'proponents', 'included', 'allen', 'newell', 'herbert', 'a', 'simon', 'and', 'marvin', 'minsky', 'closely', 'associated', 'with', 'this', 'approach', 'was', 'the', 'heuristic', 'search', 'approach', 'which', 'likened', 'intelligence', 'to', 'a', 'problem', 'of', 'exploring', 'a', 'space', 'of', 'possibilities', 'for', 'answers', 'the', 'second', 'vision', 'known', 'as', 'the', 'connectionist', 'approach', 'sought', 'to', 'achieve', 'intelligence', 'through', 'learning', 'proponents', 'of', 'this', 'approach', 'most', 'prominently', 'frank', 'rosenblatt', 'sought', 'to', 'connect', 'perceptron', 'in', 'ways', 'inspired', 'by', 'connections', 'of', 'neurons23', 'james', 'manyika', 'and', 'others', 'have', 'compared', 'the', 'two', 'approaches', 'to', 'the', 'mind', 'symbolic', 'ai', 'and', 'the', 'brain', 'connectionist', 'manyika', 'argues', 'that', 'symbolic', 'approaches', 'dominated', 'the', 'push', 'for', 'artificial', 'intelligence', 'in', 'this', 'period', 'due', 'in', 'part', 'to', 'its', 'connection', 'to', 'intellectual', 'traditions', 'of', 'descartes', 'boole', 'gottlob', 'frege', 'bertrand', 'russell', 'and', 'others', 'connectionist', 'approaches', 'based', 'on', 'cybernetics', 'or', 'artificial', 'neural', 'networks', 'were', 'pushed', 'to', 'the', 'background', 'but', 'have', 'gained', 'new', 'prominence', 'in', 'recent', 'decades24', 'the', 'field', 'of', 'ai', 'research', 'was', 'born', 'at', 'a', 'workshop', 'at', 'dartmouth', 'college', 'in', '1956d27', 'the', 'attendees', 'became', 'the', 'founders', 'and', 'leaders', 'of', 'ai', 'researche', 'they', 'and', 'their', 'students', 'produced', 'programs', 'that', 'the', 'press', 'described', 'as', 'astonishingf', 'computers', 'were', 'learning', 'checkers', 'strategies', 'solving', 'word', 'problems', 'in', 'algebra', 'proving', 'logical', 'theorems', 'and', 'speaking', 'englishg29', 'by', 'the', 'middle', 'of', 'the', '1960s', 'research', 'in', 'the', 'us', 'was', 'heavily', 'funded', 'by', 'the', 'department', 'of', 'defense30', 'and', 'laboratories', 'had', 'been', 'established', 'around', 'the', 'world31', 'researchers', 'in', 'the', '1960s', 'and', 'the', '1970s', 'were', 'convinced', 'that', 'symbolic', 'approaches', 'would', 'eventually', 'succeed', 'in', 'creating', 'a', 'machine', 'with', 'artificial', 'general', 'intelligence', 'and', 'considered', 'this', 'the', 'goal', 'of', 'their', 'field32', 'herbert', 'simon', 'predicted', 'machines', 'will', 'be', 'capable', 'within', 'twenty', 'years', 'of', 'doing', 'any', 'work', 'a', 'man', 'can', 'do33', 'marvin', 'minsky', 'agreed', 'writing', 'within', 'a', 'generation', 'the', 'problem', 'of', 'creating', 'artificial', 'intelligence', 'will', 'substantially', 'be', 'solved34', 'they', 'had', 'failed', 'to', 'recognize', 'the', 'difficulty', 'of', 'some', 'of', 'the', 'remaining', 'tasks', 'progress', 'slowed', 'and', 'in', '1974', 'in', 'response', 'to', 'the', 'criticism', 'of', 'sir', 'james', 'lighthill35', 'and', 'ongoing', 'pressure', 'from', 'the', 'us', 'congress', 'to', 'fund', 'more', 'productive', 'projects', 'both', 'the', 'us', 'and', 'british', 'governments', 'cut', 'off', 'exploratory', 'research', 'in', 'ai', 'the', 'next', 'few', 'years', 'would', 'later', 'be', 'called', 'an', 'ai', 'winter', 'a', 'period', 'when', 'obtaining', 'funding', 'for', 'ai', 'projects', 'was', 'difficult7', 'in', 'the', 'early', '1980s', 'ai', 'research', 'was', 'revived', 'by', 'the', 'commercial', 'success', 'of', 'expert', 'systems36', 'a', 'form', 'of', 'ai', 'program', 'that', 'simulated', 'the', 'knowledge', 'and', 'analytical', 'skills', 'of', 'human', 'experts', 'by', '1985', 'the', 'market', 'for', 'ai', 'had', 'reached', 'over', 'a', 'billion', 'dollars', 'at', 'the', 'same', 'time', 'japans', 'fifth', 'generation', 'computer', 'project', 'inspired', 'the', 'us', 'and', 'british', 'governments', 'to', 'restore', 'funding', 'for', 'academic', 'research6', 'however', 'beginning', 'with', 'the', 'collapse', 'of', 'the', 'lisp', 'machine', 'market', 'in', '1987', 'ai', 'once', 'again', 'fell', 'into', 'disrepute', 'and', 'a', 'second', 'longerlasting', 'winter', 'began8', 'many', 'researchers', 'began', 'to', 'doubt', 'that', 'the', 'symbolic', 'approach', 'would', 'be', 'able', 'to', 'imitate', 'all', 'the', 'processes', 'of', 'human', 'cognition', 'especially', 'perception', 'robotics', 'learning', 'and', 'pattern', 'recognition', 'a', 'number', 'of', 'researchers', 'began', 'to', 'look', 'into', 'subsymbolic', 'approaches', 'to', 'specific', 'ai', 'problems37', 'robotics', 'researchers', 'such', 'as', 'rodney', 'brooks', 'rejected', 'symbolic', 'ai', 'and', 'focused', 'on', 'the', 'basic', 'engineering', 'problems', 'that', 'would', 'allow', 'robots', 'to', 'move', 'survive', 'and', 'learn', 'their', 'environmenth', 'interest', 'in', 'neural', 'networks', 'and', 'connectionism', 'was', 'revived', 'by', 'geoffrey', 'hinton', 'david', 'rumelhart', 'and', 'others', 'in', 'the', 'middle', 'of', 'the', '1980s42', 'soft', 'computing', 'tools', 'were', 'developed', 'in', 'the', '1980s', 'such', 'as', 'neural', 'networks', 'fuzzy', 'systems', 'grey', 'system', 'theory', 'evolutionary', 'computation', 'and', 'many', 'tools', 'drawn', 'from', 'statistics', 'or', 'mathematical', 'optimization', 'ai', 'gradually', 'restored', 'its', 'reputation', 'in', 'the', 'late', '1990s', 'and', 'early', '21st', 'century', 'by', 'finding', 'specific', 'solutions', 'to', 'specific', 'problems', 'the', 'narrow', 'focus', 'allowed', 'researchers', 'to', 'produce', 'verifiable', 'results', 'exploit', 'more', 'mathematical', 'methods', 'and', 'collaborate', 'with', 'other', 'fields', 'such', 'as', 'statistics', 'economics', 'and', 'mathematics43', 'by', '2000', 'solutions', 'developed', 'by', 'ai', 'researchers', 'were', 'being', 'widely', 'used', 'although', 'in', 'the', '1990s', 'they', 'were', 'rarely', 'described', 'as', 'artificial', 'intelligence10', 'faster', 'computers', 'algorithmic', 'improvements', 'and', 'access', 'to', 'large', 'amounts', 'of', 'data', 'enabled', 'advances', 'in', 'machine', 'learning', 'and', 'perception', 'datahungry', 'deep', 'learning', 'methods', 'started', 'to', 'dominate', 'accuracy', 'benchmarks', 'around', '201244', 'according', 'to', 'bloombergs', 'jack', 'clark', '2015', 'was', 'a', 'landmark', 'year', 'for', 'artificial', 'intelligence', 'with', 'the', 'number', 'of', 'software', 'projects', 'that', 'use', 'ai', 'within', 'google', 'increased', 'from', 'a', 'sporadic', 'usage', 'in', '2012', 'to', 'more', 'than', '2700', 'projectsi', 'he', 'attributed', 'this', 'to', 'an', 'increase', 'in', 'affordable', 'neural', 'networks', 'due', 'to', 'a', 'rise', 'in', 'cloud', 'computing', 'infrastructure', 'and', 'to', 'an', 'increase', 'in', 'research', 'tools', 'and', 'datasets9', 'in', 'a', '2017', 'survey', 'one', 'in', 'five', 'companies', 'reported', 'they', 'had', 'incorporated', 'ai', 'in', 'some', 'offerings', 'or', 'processes45', 'the', 'amount', 'of', 'research', 'into', 'ai', 'measured', 'by', 'total', 'publications', 'increased', 'by', '50', 'in', 'the', 'years', '2015–201946', 'numerous', 'academic', 'researchers', 'became', 'concerned', 'that', 'ai', 'was', 'no', 'longer', 'pursuing', 'the', 'original', 'goal', 'of', 'creating', 'versatile', 'fully', 'intelligent', 'machines', 'much', 'of', 'current', 'research', 'involves', 'statistical', 'ai', 'which', 'is', 'overwhelmingly', 'used', 'to', 'solve', 'specific', 'problems', 'even', 'highly', 'successful', 'techniques', 'such', 'as', 'deep', 'learning', 'this', 'concern', 'has', 'led', 'to', 'the', 'subfield', 'of', 'artificial', 'general', 'intelligence', 'or', 'agi', 'which', 'had', 'several', 'wellfunded', 'institutions', 'by', 'the', '2010s', 'the', 'general', 'problem', 'of', 'simulating', 'or', 'creating', 'intelligence', 'has', 'been', 'broken', 'down', 'into', 'subproblems', 'these', 'consist', 'of', 'particular', 'traits', 'or', 'capabilities', 'that', 'researchers', 'expect', 'an', 'intelligent', 'system', 'to', 'display', 'the', 'traits', 'described', 'below', 'have', 'received', 'the', 'most', 'attentiona', 'reasoning', 'problemsolving', 'early', 'researchers', 'developed', 'algorithms', 'that', 'imitated', 'stepbystep', 'reasoning', 'that', 'humans', 'use', 'when', 'they', 'solve', 'puzzles', 'or', 'make', 'logical', 'deductions47', 'by', 'the', 'late', '1980s', 'and', '1990s', 'ai', 'research', 'had', 'developed', 'methods', 'for', 'dealing', 'with', 'uncertain', 'or', 'incomplete', 'information', 'employing', 'concepts', 'from', 'probability', 'and', 'economics48', 'many', 'of', 'these', 'algorithms', 'proved', 'to', 'be', 'insufficient', 'for', 'solving', 'large', 'reasoning', 'problems', 'because', 'they', 'experienced', 'a', 'combinatorial', 'explosion', 'they', 'became', 'exponentially', 'slower', 'as', 'the', 'problems', 'grew', 'larger49', 'even', 'humans', 'rarely', 'use', 'the', 'stepbystep', 'deduction', 'that', 'early', 'ai', 'research', 'could', 'model', 'they', 'solve', 'most', 'of', 'their', 'problems', 'using', 'fast', 'intuitive', 'judgments', 'knowledge', 'representation', 'and', 'knowledge', 'engineering51', 'allow', 'ai', 'programs', 'to', 'answer', 'questions', 'intelligently', 'and', 'make', 'deductions', 'about', 'realworld', 'facts', 'a', 'representation', 'of', 'what', 'exists', 'is', 'an', 'ontology', 'the', 'set', 'of', 'objects', 'relations', 'concepts', 'and', 'properties', 'formally', 'described', 'so', 'that', 'software', 'agents', 'can', 'interpret', 'them52', 'the', 'most', 'general', 'ontologies', 'are', 'called', 'upper', 'ontologies', 'which', 'attempt', 'to', 'provide', 'a', 'foundation', 'for', 'all', 'other', 'knowledge', 'and', 'act', 'as', 'mediators', 'between', 'domain', 'ontologies', 'that', 'cover', 'specific', 'knowledge', 'about', 'a', 'particular', 'knowledge', 'domain', 'field', 'of', 'interest', 'or', 'area', 'of', 'concern', 'a', 'truly', 'intelligent', 'program', 'would', 'also', 'need', 'access', 'to', 'commonsense', 'knowledge', 'the', 'set', 'of', 'facts', 'that', 'an', 'average', 'person', 'knows', 'the', 'semantics', 'of', 'an', 'ontology', 'is', 'typically', 'represented', 'in', 'description', 'logic', 'such', 'as', 'the', 'web', 'ontology', 'language53', 'ai', 'research', 'has', 'developed', 'tools', 'to', 'represent', 'specific', 'domains', 'such', 'as', 'objects', 'properties', 'categories', 'and', 'relations', 'between', 'objects53', 'situations', 'events', 'states', 'and', 'time54', 'causes', 'and', 'effects55', 'knowledge', 'about', 'knowledge', 'what', 'we', 'know', 'about', 'what', 'other', 'people', 'know56', 'default', 'reasoning', 'things', 'that', 'humans', 'assume', 'are', 'true', 'until', 'they', 'are', 'told', 'differently', 'and', 'will', 'remain', 'true', 'even', 'when', 'other', 'facts', 'are', 'changing57', 'as', 'well', 'as', 'other', 'domains', 'among', 'the', 'most', 'difficult', 'problems', 'in', 'ai', 'are', 'the', 'breadth', 'of', 'commonsense', 'knowledge', 'the', 'number', 'of', 'atomic', 'facts', 'that', 'the', 'average', 'person', 'knows', 'is', 'enormous58', 'and', 'the', 'subsymbolic', 'form', 'of', 'most', 'commonsense', 'knowledge', 'much', 'of', 'what', 'people', 'know', 'is', 'not', 'represented', 'as', 'facts', 'or', 'statements', 'that', 'they', 'could', 'express', 'verbally50', 'formal', 'knowledge', 'representations', 'are', 'used', 'in', 'contentbased', 'indexing', 'and', 'retrieval59', 'scene', 'interpretation60', 'clinical', 'decision', 'support61', 'knowledge', 'discovery', 'mining', 'interesting', 'and', 'actionable', 'inferences', 'from', 'large', 'databases62', 'and', 'other', 'areas', 'machine', 'learning', 'ml', 'a', 'fundamental', 'concept', 'of', 'ai', 'research', 'since', 'the', 'fields', 'inceptionj', 'is', 'the', 'study', 'of', 'computer', 'algorithms', 'that', 'improve', 'automatically', 'through', 'experiencek', 'unsupervised', 'learning', 'finds', 'patterns', 'in', 'a', 'stream', 'of', 'input', 'supervised', 'learning', 'requires', 'a', 'human', 'to', 'label', 'the', 'input', 'data', 'first', 'and', 'comes', 'in', 'two', 'main', 'varieties', 'classification', 'and', 'numerical', 'regression', 'classification', 'is', 'used', 'to', 'determine', 'what', 'category', 'something', 'belongs', 'in', '–', 'the', 'program', 'sees', 'a', 'number', 'of', 'examples', 'of', 'things', 'from', 'several', 'categories', 'and', 'will', 'learn', 'to', 'classify', 'new', 'inputs', 'regression', 'is', 'the', 'attempt', 'to', 'produce', 'a', 'function', 'that', 'describes', 'the', 'relationship', 'between', 'inputs', 'and', 'outputs', 'and', 'predicts', 'how', 'the', 'outputs', 'should', 'change', 'as', 'the', 'inputs', 'change', 'both', 'classifiers', 'and', 'regression', 'learners', 'can', 'be', 'viewed', 'as', 'function', 'approximators', 'trying', 'to', 'learn', 'an', 'unknown', 'possibly', 'implicit', 'function', 'for', 'example', 'a', 'spam', 'classifier', 'can', 'be', 'viewed', 'as', 'learning', 'a', 'function', 'that', 'maps', 'from', 'the', 'text', 'of', 'an', 'email', 'to', 'one', 'of', 'two', 'categories', 'spam', 'or', 'not', 'spam67', 'in', 'reinforcement', 'learning', 'the', 'agent', 'is', 'rewarded', 'for', 'good', 'responses', 'and', 'punished', 'for', 'bad', 'ones', 'the', 'agent', 'classifies', 'its', 'responses', 'to', 'form', 'a', 'strategy', 'for', 'operating', 'in', 'its', 'problem', 'space68', 'transfer', 'learning', 'is', 'when', 'the', 'knowledge', 'gained', 'from', 'one', 'problem', 'is', 'applied', 'to', 'a', 'new', 'problem69', 'computational', 'learning', 'theory', 'can', 'assess', 'learners', 'by', 'computational', 'complexity', 'by', 'sample', 'complexity', 'how', 'much', 'data', 'is', 'required', 'or', 'by', 'other', 'notions', 'of', 'optimization70', 'natural', 'language', 'processing', 'nlp71', 'allows', 'machines', 'to', 'read', 'and', 'understand', 'human', 'language', 'a', 'sufficiently', 'powerful', 'natural', 'language', 'processing', 'system', 'would', 'enable', 'naturallanguage', 'user', 'interfaces', 'and', 'the', 'acquisition', 'of', 'knowledge', 'directly', 'from', 'humanwritten', 'sources', 'such', 'as', 'newswire', 'texts', 'some', 'straightforward', 'applications', 'of', 'nlp', 'include', 'information', 'retrieval', 'question', 'answering', 'and', 'machine', 'translation72', 'symbolic', 'ai', 'used', 'formal', 'syntax', 'to', 'translate', 'the', 'deep', 'structure', 'of', 'sentences', 'into', 'logic', 'this', 'failed', 'to', 'produce', 'useful', 'applications', 'due', 'to', 'the', 'intractability', 'of', 'logic49', 'and', 'the', 'breadth', 'of', 'commonsense', 'knowledge58', 'modern', 'statistical', 'techniques', 'include', 'cooccurrence', 'frequencies', 'how', 'often', 'one', 'word', 'appears', 'near', 'another', 'keyword', 'spotting', 'searching', 'for', 'a', 'particular', 'word', 'to', 'retrieve', 'information', 'transformerbased', 'deep', 'learning', 'which', 'finds', 'patterns', 'in', 'text', 'and', 'others73', 'they', 'have', 'achieved', 'acceptable', 'accuracy', 'at', 'the', 'page', 'or', 'paragraph', 'level', 'and', 'by', '2019', 'could', 'generate', 'coherent', 'text', 'machine', 'perception75', 'is', 'the', 'ability', 'to', 'use', 'input', 'from', 'sensors', 'such', 'as', 'cameras', 'microphones', 'wireless', 'signals', 'and', 'active', 'lidar', 'sonar', 'radar', 'and', 'tactile', 'sensors', 'to', 'deduce', 'aspects', 'of', 'the', 'world', 'applications', 'include', 'speech', 'recognition76', 'facial', 'recognition', 'and', 'object', 'recognition77', 'computer', 'vision', 'is', 'the', 'ability', 'to', 'analyze', 'visual', 'input', 'affective', 'computing', 'is', 'an', 'interdisciplinary', 'umbrella', 'that', 'comprises', 'systems', 'that', 'recognize', 'interpret', 'process', 'or', 'simulate', 'human', 'feeling', 'emotion', 'and', 'mood80', 'for', 'example', 'some', 'virtual', 'assistants', 'are', 'programmed', 'to', 'speak', 'conversationally', 'or', 'even', 'to', 'banter', 'humorously', 'it', 'makes', 'them', 'appear', 'more', 'sensitive', 'to', 'the', 'emotional', 'dynamics', 'of', 'human', 'interaction', 'or', 'to', 'otherwise', 'facilitate', 'human–computer', 'interaction', 'however', 'this', 'tends', 'to', 'give', 'naïve', 'users', 'an', 'unrealistic', 'conception', 'of', 'how', 'intelligent', 'existing', 'computer', 'agents', 'actually', 'are81', 'moderate', 'successes', 'related', 'to', 'affective', 'computing', 'include', 'textual', 'sentiment', 'analysis', 'and', 'more', 'recently', 'multimodal', 'sentiment', 'analysis', 'wherein', 'ai', 'classifies', 'the', 'affects', 'displayed', 'by', 'a', 'videotaped', 'subject', 'a', 'machine', 'with', 'general', 'intelligence', 'can', 'solve', 'a', 'wide', 'variety', 'of', 'problems', 'with', 'breadth', 'and', 'versatility', 'similar', 'to', 'human', 'intelligence', 'there', 'are', 'several', 'competing', 'ideas', 'about', 'how', 'to', 'develop', 'artificial', 'general', 'intelligence', 'hans', 'moravec', 'and', 'marvin', 'minsky', 'argue', 'that', 'work', 'in', 'different', 'individual', 'domains', 'can', 'be', 'incorporated', 'into', 'an', 'advanced', 'multiagent', 'system', 'or', 'cognitive', 'architecture', 'with', 'general', 'intelligence83', 'pedro', 'domingos', 'hopes', 'that', 'there', 'is', 'a', 'conceptually', 'straightforward', 'but', 'mathematically', 'difficult', 'master', 'algorithm', 'that', 'could', 'lead', 'to', 'agi84', 'others', 'believe', 'that', 'anthropomorphic', 'features', 'like', 'an', 'artificial', 'brain85', 'or', 'simulated', 'child', 'developmentl', 'will', 'someday', 'reach', 'a', 'critical', 'point', 'where', 'general', 'intelligence', 'emerges', 'ai', 'can', 'solve', 'many', 'problems', 'by', 'intelligently', 'searching', 'through', 'many', 'possible', 'solutions86', 'reasoning', 'can', 'be', 'reduced', 'to', 'performing', 'a', 'search', 'for', 'example', 'logical', 'proof', 'can', 'be', 'viewed', 'as', 'searching', 'for', 'a', 'path', 'that', 'leads', 'from', 'premises', 'to', 'conclusions', 'where', 'each', 'step', 'is', 'the', 'application', 'of', 'an', 'inference', 'rule87', 'planning', 'algorithms', 'search', 'through', 'trees', 'of', 'goals', 'and', 'subgoals', 'attempting', 'to', 'find', 'a', 'path', 'to', 'a', 'target', 'goal', 'a', 'process', 'called', 'meansends', 'analysis88', 'robotics', 'algorithms', 'for', 'moving', 'limbs', 'and', 'grasping', 'objects', 'use', 'local', 'searches', 'in', 'configuration', 'space89', 'simple', 'exhaustive', 'searches90', 'are', 'rarely', 'sufficient', 'for', 'most', 'realworld', 'problems', 'the', 'search', 'space', 'the', 'number', 'of', 'places', 'to', 'search', 'quickly', 'grows', 'to', 'astronomical', 'numbers', 'the', 'result', 'is', 'a', 'search', 'that', 'is', 'too', 'slow', 'or', 'never', 'completes', 'the', 'solution', 'for', 'many', 'problems', 'is', 'to', 'use', 'heuristics', 'or', 'rules', 'of', 'thumb', 'that', 'prioritize', 'choices', 'in', 'favor', 'of', 'those', 'more', 'likely', 'to', 'reach', 'a', 'goal', 'and', 'to', 'do', 'so', 'in', 'a', 'shorter', 'number', 'of', 'steps', 'in', 'some', 'search', 'methodologies', 'heuristics', 'can', 'also', 'serve', 'to', 'eliminate', 'some', 'choices', 'unlikely', 'to', 'lead', 'to', 'a', 'goal', 'called', 'pruning', 'the', 'search', 'tree', 'heuristics', 'supply', 'the', 'program', 'with', 'a', 'best', 'guess', 'for', 'the', 'path', 'on', 'which', 'the', 'solution', 'lies91', 'heuristics', 'limit', 'the', 'search', 'for', 'solutions', 'into', 'a', 'smaller', 'sample', 'size92', 'a', 'particle', 'swarm', 'seeking', 'the', 'global', 'minimum', 'a', 'very', 'different', 'kind', 'of', 'search', 'came', 'to', 'prominence', 'in', 'the', '1990s', 'based', 'on', 'the', 'mathematical', 'theory', 'of', 'optimization', 'for', 'many', 'problems', 'it', 'is', 'possible', 'to', 'begin', 'the', 'search', 'with', 'some', 'form', 'of', 'a', 'guess', 'and', 'then', 'refine', 'the', 'guess', 'incrementally', 'until', 'no', 'more', 'refinements', 'can', 'be', 'made', 'these', 'algorithms', 'can', 'be', 'visualized', 'as', 'blind', 'hill', 'climbing', 'we', 'begin', 'the', 'search', 'at', 'a', 'random', 'point', 'on', 'the', 'landscape', 'and', 'then', 'by', 'jumps', 'or', 'steps', 'we', 'keep', 'moving', 'our', 'guess', 'uphill', 'until', 'we', 'reach', 'the', 'top', 'other', 'related', 'optimization', 'algorithms', 'include', 'random', 'optimization', 'beam', 'search', 'and', 'metaheuristics', 'like', 'simulated', 'annealing93', 'evolutionary', 'computation', 'uses', 'a', 'form', 'of', 'optimization', 'search', 'for', 'example', 'they', 'may', 'begin', 'with', 'a', 'population', 'of', 'organisms', 'the', 'guesses', 'and', 'then', 'allow', 'them', 'to', 'mutate', 'and', 'recombine', 'selecting', 'only', 'the', 'fittest', 'to', 'survive', 'each', 'generation', 'refining', 'the', 'guesses', 'classic', 'evolutionary', 'algorithms', 'include', 'genetic', 'algorithms', 'gene', 'expression', 'programming', 'and', 'genetic', 'programming94', 'alternatively', 'distributed', 'search', 'processes', 'can', 'coordinate', 'via', 'swarm', 'intelligence', 'algorithms', 'two', 'popular', 'swarm', 'algorithms', 'used', 'in', 'search', 'are', 'particle', 'swarm', 'optimization', 'inspired', 'by', 'bird', 'flocking', 'and', 'ant', 'colony', 'optimization', 'inspired', 'by', 'ant', 'trails95', 'logic96', 'is', 'used', 'for', 'knowledge', 'representation', 'and', 'problemsolving', 'but', 'it', 'can', 'be', 'applied', 'to', 'other', 'problems', 'as', 'well', 'for', 'example', 'the', 'satplan', 'algorithm', 'uses', 'logic', 'for', 'planning97', 'and', 'inductive', 'logic', 'programming', 'is', 'a', 'method', 'for', 'learning98', 'several', 'different', 'forms', 'of', 'logic', 'are', 'used', 'in', 'ai', 'research', 'propositional', 'logic99', 'involves', 'truth', 'functions', 'such', 'as', 'or', 'and', 'not', 'firstorder', 'logic100', 'adds', 'quantifiers', 'and', 'predicates', 'and', 'can', 'express', 'facts', 'about', 'objects', 'their', 'properties', 'and', 'their', 'relations', 'with', 'each', 'other', 'fuzzy', 'logic', 'assigns', 'a', 'degree', 'of', 'truth', 'between', '0', 'and', '1', 'to', 'vague', 'statements', 'such', 'as', 'alice', 'is', 'old', 'or', 'rich', 'or', 'tall', 'or', 'hungry', 'that', 'are', 'too', 'linguistically', 'imprecise', 'to', 'be', 'completely', 'true', 'or', 'false101', 'default', 'logics', 'nonmonotonic', 'logics', 'and', 'circumscription', 'are', 'forms', 'of', 'logic', 'designed', 'to', 'help', 'with', 'default', 'reasoning', 'and', 'the', 'qualification', 'problem57', 'several', 'extensions', 'of', 'logic', 'have', 'been', 'designed', 'to', 'handle', 'specific', 'domains', 'of', 'knowledge', 'such', 'as', 'description', 'logics53', 'situation', 'calculus', 'event', 'calculus', 'and', 'fluent', 'calculus', 'for', 'representing', 'events', 'and', 'time54', 'causal', 'calculus55', 'belief', 'calculus', 'belief', 'revision', 'and', 'modal', 'logics56', 'logics', 'to', 'model', 'contradictory', 'or', 'inconsistent', 'statements', 'arising', 'in', 'multiagent', 'systems', 'have', 'also', 'been', 'designed', 'such', 'as', 'paraconsistent', 'logics102', 'many', 'problems', 'in', 'ai', 'including', 'in', 'reasoning', 'planning', 'learning', 'perception', 'and', 'robotics', 'require', 'the', 'agent', 'to', 'operate', 'with', 'incomplete', 'or', 'uncertain', 'information', 'ai', 'researchers', 'have', 'devised', 'a', 'number', 'of', 'tools', 'to', 'solve', 'these', 'problems', 'using', 'methods', 'from', 'probability', 'theory', 'and', 'economics103', 'bayesian', 'networks104', 'are', 'a', 'very', 'general', 'tool', 'that', 'can', 'be', 'used', 'for', 'various', 'problems', 'including', 'reasoning', 'using', 'the', 'bayesian', 'inference', 'algorithmm106', 'learning', 'using', 'the', 'expectationmaximization', 'algorithmn108', 'planning', 'using', 'decision', 'networks109', 'and', 'perception', 'using', 'dynamic', 'bayesian', 'networks110', 'probabilistic', 'algorithms', 'can', 'also', 'be', 'used', 'for', 'filtering', 'prediction', 'smoothing', 'and', 'finding', 'explanations', 'for', 'streams', 'of', 'data', 'helping', 'perception', 'systems', 'to', 'analyze', 'processes', 'that', 'occur', 'over', 'time', 'eg', 'hidden', 'markov', 'models', 'or', 'kalman', 'filters110', 'a', 'key', 'concept', 'from', 'the', 'science', 'of', 'economics', 'is', 'utility', 'a', 'measure', 'of', 'how', 'valuable', 'something', 'is', 'to', 'an', 'intelligent', 'agent', 'precise', 'mathematical', 'tools', 'have', 'been', 'developed', 'that', 'analyze', 'how', 'an', 'agent', 'can', 'make', 'choices', 'and', 'plan', 'using', 'decision', 'theory', 'decision', 'analysis111', 'and', 'information', 'value', 'theory112', 'these', 'tools', 'include', 'models', 'such', 'as', 'markov', 'decision', 'processes113', 'dynamic', 'decision', 'networks110', 'game', 'theory', 'and', 'mechanism', 'design114', 'the', 'simplest', 'ai', 'applications', 'can', 'be', 'divided', 'into', 'two', 'types', 'classifiers', 'if', 'shiny', 'then', 'diamond', 'and', 'controllers', 'if', 'diamond', 'then', 'pick', 'up', 'controllers', 'do', 'however', 'also', 'classify', 'conditions', 'before', 'inferring', 'actions', 'and', 'therefore', 'classification', 'forms', 'a', 'central', 'part', 'of', 'many', 'ai', 'systems', 'classifiers', 'are', 'functions', 'that', 'use', 'pattern', 'matching', 'to', 'determine', 'the', 'closest', 'match', 'they', 'can', 'be', 'tuned', 'according', 'to', 'examples', 'making', 'them', 'very', 'attractive', 'for', 'use', 'in', 'ai', 'these', 'examples', 'are', 'known', 'as', 'observations', 'or', 'patterns', 'in', 'supervised', 'learning', 'each', 'pattern', 'belongs', 'to', 'a', 'certain', 'predefined', 'class', 'a', 'class', 'is', 'a', 'decision', 'that', 'has', 'to', 'be', 'made', 'all', 'the', 'observations', 'combined', 'with', 'their', 'class', 'labels', 'are', 'known', 'as', 'a', 'data', 'set', 'when', 'a', 'new', 'observation', 'is', 'received', 'that', 'observation', 'is', 'classified', 'based', 'on', 'previous', 'experience115', 'a', 'classifier', 'can', 'be', 'trained', 'in', 'various', 'ways', 'there', 'are', 'many', 'statistical', 'and', 'machine', 'learning', 'approaches', 'the', 'decision', 'tree', 'is', 'the', 'simplest', 'and', 'most', 'widely', 'used', 'symbolic', 'machine', 'learning', 'algorithm116', 'knearest', 'neighbor', 'algorithm', 'was', 'the', 'most', 'widely', 'used', 'analogical', 'ai', 'until', 'the', 'mid1990s117', 'kernel', 'methods', 'such', 'as', 'the', 'support', 'vector', 'machine', 'svm', 'displaced', 'knearest', 'neighbor', 'in', 'the', '1990s118', 'the', 'naive', 'bayes', 'classifier', 'is', 'reportedly', 'the', 'most', 'widely', 'used', 'learner119', 'at', 'google', 'due', 'in', 'part', 'to', 'its', 'scalability120', 'neural', 'networks', 'are', 'also', 'used', 'for', 'classification121', 'classifier', 'performance', 'depends', 'greatly', 'on', 'the', 'characteristics', 'of', 'the', 'data', 'to', 'be', 'classified', 'such', 'as', 'the', 'dataset', 'size', 'distribution', 'of', 'samples', 'across', 'classes', 'dimensionality', 'and', 'the', 'level', 'of', 'noise', 'modelbased', 'classifiers', 'perform', 'well', 'if', 'the', 'assumed', 'model', 'is', 'an', 'extremely', 'good', 'fit', 'for', 'the', 'actual', 'data', 'otherwise', 'if', 'no', 'matching', 'model', 'is', 'available', 'and', 'if', 'accuracy', 'rather', 'than', 'speed', 'or', 'scalability', 'is', 'the', 'sole', 'concern', 'conventional', 'wisdom', 'is', 'that', 'discriminative', 'classifiers', 'especially', 'svm', 'tend', 'to', 'be', 'more', 'accurate', 'than', 'modelbased', 'classifiers', 'such', 'as', 'naive', 'bayes', 'on', 'most', 'practical', 'data', 'sets122', 'neural', 'networks121', 'were', 'inspired', 'by', 'the', 'architecture', 'of', 'neurons', 'in', 'the', 'human', 'brain', 'a', 'simple', 'neuron', 'n', 'accepts', 'input', 'from', 'other', 'neurons', 'each', 'of', 'which', 'when', 'activated', 'or', 'fired', 'casts', 'a', 'weighted', 'vote', 'for', 'or', 'against', 'whether', 'neuron', 'n', 'should', 'itself', 'activate', 'learning', 'requires', 'an', 'algorithm', 'to', 'adjust', 'these', 'weights', 'based', 'on', 'the', 'training', 'data', 'one', 'simple', 'algorithm', 'dubbed', 'fire', 'together', 'wire', 'together', 'is', 'to', 'increase', 'the', 'weight', 'between', 'two', 'connected', 'neurons', 'when', 'the', 'activation', 'of', 'one', 'triggers', 'the', 'successful', 'activation', 'of', 'another', 'neurons', 'have', 'a', 'continuous', 'spectrum', 'of', 'activation', 'in', 'addition', 'neurons', 'can', 'process', 'inputs', 'in', 'a', 'nonlinear', 'way', 'rather', 'than', 'weighing', 'straightforward', 'votes', 'modern', 'neural', 'networks', 'model', 'complex', 'relationships', 'between', 'inputs', 'and', 'outputs', 'and', 'find', 'patterns', 'in', 'data', 'they', 'can', 'learn', 'continuous', 'functions', 'and', 'even', 'digital', 'logical', 'operations', 'neural', 'networks', 'can', 'be', 'viewed', 'as', 'a', 'type', 'of', 'mathematical', 'optimization', '–', 'they', 'perform', 'gradient', 'descent', 'on', 'a', 'multidimensional', 'topology', 'that', 'was', 'created', 'by', 'training', 'the', 'network', 'the', 'most', 'common', 'training', 'technique', 'is', 'the', 'backpropagation', 'algorithm123', 'other', 'learning', 'techniques', 'for', 'neural', 'networks', 'are', 'hebbian', 'learning', 'fire', 'together', 'wire', 'together', 'gmdh', 'or', 'competitive', 'learning124', 'the', 'main', 'categories', 'of', 'networks', 'are', 'acyclic', 'or', 'feedforward', 'neural', 'networks', 'where', 'the', 'signal', 'passes', 'in', 'only', 'one', 'direction', 'and', 'recurrent', 'neural', 'networks', 'which', 'allow', 'feedback', 'and', 'shortterm', 'memories', 'of', 'previous', 'input', 'events', 'among', 'the', 'most', 'popular', 'feedforward', 'networks', 'are', 'perceptrons', 'multilayer', 'perceptrons', 'and', 'radial', 'basis', 'networks125', 'deep', 'learning127', 'uses', 'several', 'layers', 'of', 'neurons', 'between', 'the', 'networks', 'inputs', 'and', 'outputs', 'the', 'multiple', 'layers', 'can', 'progressively', 'extract', 'higherlevel', 'features', 'from', 'the', 'raw', 'input', 'for', 'example', 'in', 'image', 'processing', 'lower', 'layers', 'may', 'identify', 'edges', 'while', 'higher', 'layers', 'may', 'identify', 'the', 'concepts', 'relevant', 'to', 'a', 'human', 'such', 'as', 'digits', 'or', 'letters', 'or', 'faces128', 'deep', 'learning', 'has', 'drastically', 'improved', 'the', 'performance', 'of', 'programs', 'in', 'many', 'important', 'subfields', 'of', 'artificial', 'intelligence', 'including', 'computer', 'vision', 'speech', 'recognition', 'image', 'classification129', 'and', 'others', 'deep', 'learning', 'often', 'uses', 'convolutional', 'neural', 'networks', 'for', 'many', 'or', 'all', 'of', 'its', 'layers', 'in', 'a', 'convolutional', 'layer', 'each', 'neuron', 'receives', 'input', 'from', 'only', 'a', 'restricted', 'area', 'of', 'the', 'previous', 'layer', 'called', 'the', 'neurons', 'receptive', 'field', 'this', 'can', 'substantially', 'reduce', 'the', 'number', 'of', 'weighted', 'connections', 'between', 'neurons130', 'and', 'creates', 'a', 'hierarchy', 'similar', 'to', 'the', 'organization', 'of', 'the', 'animal', 'visual', 'cortex131', 'in', 'a', 'recurrent', 'neural', 'network', 'rnn', 'the', 'signal', 'will', 'propagate', 'through', 'a', 'layer', 'more', 'than', 'once132', 'thus', 'an', 'rnn', 'is', 'an', 'example', 'of', 'deep', 'learning133', 'rnns', 'can', 'be', 'trained', 'by', 'gradient', 'descent134', 'however', 'longterm', 'gradients', 'which', 'are', 'backpropagated', 'can', 'vanish', 'that', 'is', 'they', 'can', 'tend', 'to', 'zero', 'or', 'explode', 'that', 'is', 'they', 'can', 'tend', 'to', 'infinity', 'known', 'as', 'the', 'vanishing', 'gradient', 'problem135', 'the', 'long', 'short', 'term', 'memory', 'lstm', 'technique', 'can', 'prevent', 'this', 'in', 'most', 'cases', 'ai', 'is', 'relevant', 'to', 'any', 'intellectual', 'task137', 'modern', 'artificial', 'intelligence', 'techniques', 'are', 'pervasive', 'and', 'are', 'too', 'numerous', 'to', 'list', 'here138', 'frequently', 'when', 'a', 'technique', 'reaches', 'mainstream', 'use', 'it', 'is', 'no', 'longer', 'considered', 'artificial', 'intelligence', 'this', 'phenomenon', 'is', 'described', 'as', 'the', 'ai', 'effect139', 'in', 'the', '2010s', 'ai', 'applications', 'were', 'at', 'the', 'heart', 'of', 'the', 'most', 'commercially', 'successful', 'areas', 'of', 'computing', 'and', 'have', 'become', 'a', 'ubiquitous', 'feature', 'of', 'daily', 'life', 'ai', 'is', 'used', 'in', 'search', 'engines', 'such', 'as', 'google', 'search', 'targeting', 'online', 'advertisements140', 'recommendation', 'systems', 'offered', 'by', 'netflix', 'youtube', 'or', 'amazon', 'driving', 'internet', 'traffic141142', 'targeted', 'advertising', 'adsense', 'facebook', 'virtual', 'assistants', 'such', 'as', 'siri', 'or', 'alexa143', 'autonomous', 'vehicles', 'including', 'drones', 'adas', 'and', 'selfdriving', 'cars', 'automatic', 'language', 'translation', 'microsoft', 'translator', 'google', 'translate', 'facial', 'recognition', 'apples', 'face', 'id', 'or', 'microsofts', 'deepface', 'image', 'labeling', 'used', 'by', 'facebook', 'apples', 'iphoto', 'and', 'tiktok', 'spam', 'filtering', 'and', 'chatbots', 'such', 'as', 'chat', 'gpt', 'there', 'are', 'also', 'thousands', 'of', 'successful', 'ai', 'applications', 'used', 'to', 'solve', 'problems', 'for', 'specific', 'industries', 'or', 'institutions', 'a', 'few', 'examples', 'are', 'energy', 'storage144', 'deepfakes145', 'medical', 'diagnosis', 'military', 'logistics', 'or', 'supply', 'chain', 'management', 'game', 'playing', 'has', 'been', 'a', 'test', 'of', 'ais', 'strength', 'since', 'the', '1950s', 'deep', 'blue', 'became', 'the', 'first', 'computer', 'chessplaying', 'system', 'to', 'beat', 'a', 'reigning', 'world', 'chess', 'champion', 'garry', 'kasparov', 'on', '11', 'may', '1997146', 'in', '2011', 'in', 'a', 'jeopardy', 'quiz', 'show', 'exhibition', 'match', 'ibms', 'question', 'answering', 'system', 'watson', 'defeated', 'the', 'two', 'greatest', 'jeopardy', 'champions', 'brad', 'rutter', 'and', 'ken', 'jennings', 'by', 'a', 'significant', 'margin147', 'in', 'march', '2016', 'alphago', 'won', '4', 'out', 'of', '5', 'games', 'of', 'go', 'in', 'a', 'match', 'with', 'go', 'champion', 'lee', 'sedol', 'becoming', 'the', 'first', 'computer', 'goplaying', 'system', 'to', 'beat', 'a', 'professional', 'go', 'player', 'without', 'handicaps148', 'other', 'programs', 'handle', 'imperfectinformation', 'games', 'such', 'as', 'for', 'poker', 'at', 'a', 'superhuman', 'level', 'pluribuso', 'and', 'cepheus150', 'deepmind', 'in', 'the', '2010s', 'developed', 'a', 'generalized', 'artificial', 'intelligence', 'that', 'could', 'learn', 'many', 'diverse', 'atari', 'games', 'on', 'its', 'own151', 'by', '2020', 'natural', 'language', 'processing', 'systems', 'such', 'as', 'the', 'enormous', 'gpt3', 'then', 'by', 'far', 'the', 'largest', 'artificial', 'neural', 'network', 'were', 'matching', 'human', 'performance', 'on', 'preexisting', 'benchmarks', 'albeit', 'without', 'the', 'system', 'attaining', 'a', 'commonsense', 'understanding', 'of', 'the', 'contents', 'of', 'the', 'benchmarks152', 'deepminds', 'alphafold', '2', '2020', 'demonstrated', 'the', 'ability', 'to', 'approximate', 'in', 'hours', 'rather', 'than', 'months', 'the', '3d', 'structure', 'of', 'a', 'protein153', 'other', 'applications', 'predict', 'the', 'result', 'of', 'judicial', 'decisions154', 'create', 'art', 'such', 'as', 'poetry', 'or', 'painting', 'and', 'prove', 'mathematical', 'theorems', 'ai', 'content', 'detector', 'tools', 'are', 'software', 'applications', 'that', 'use', 'artificial', 'intelligence', 'ai', 'algorithms', 'to', 'analyze', 'and', 'detect', 'specific', 'types', 'of', 'content', 'in', 'digital', 'media', 'such', 'as', 'text', 'images', 'and', 'videos', 'these', 'tools', 'are', 'commonly', 'used', 'to', 'identify', 'inappropriate', 'content', 'such', 'as', 'speech', 'errors', 'violent', 'or', 'sexual', 'images', 'and', 'spam', 'among', 'others', 'some', 'benefits', 'of', 'using', 'ai', 'content', 'detector', 'tools155', 'include', 'improved', 'efficiency', 'and', 'accuracy', 'in', 'detecting', 'inappropriate', 'content', 'increased', 'safety', 'and', 'security', 'for', 'users', 'and', 'reduced', 'legal', 'and', 'reputational', 'risks', 'for', 'websites', 'and', 'platforms']\n"
          ]
        }
      ]
    },
    {
      "cell_type": "code",
      "source": [
        "##For greeting\n",
        "greeting_input = ['hi', 'hello','hey', 'namaste']\n",
        "greeting_response = ['Hi', 'Hello','Hey!', 'Namaste']\n",
        "\n",
        "def greeting(sentence):\n",
        "  for word in sentence.split():\n",
        "    if word.lower() in greeting_input:\n",
        "      return random.choice(greeting_response)\n",
        "\n",
        "##For exiting\n",
        "exit_input = ['bye','thanks','thank you','byee','ok','okay','see you']\n",
        "exit_response = ['Thank you for communicating with me','Thanks!',\"Thank you!\"]\n",
        "def exit_robo(user_response):\n",
        "  for word in user_response.split():\n",
        "    if word.lower() in exit_input:\n",
        "      return random.choice(exit_response)"
      ],
      "metadata": {
        "id": "IGQ-drZszXBc"
      },
      "execution_count": 187,
      "outputs": []
    },
    {
      "cell_type": "markdown",
      "source": [],
      "metadata": {
        "id": "xPDxfvCO1Jnp"
      }
    },
    {
      "cell_type": "code",
      "source": [
        "def response(user_response):\n",
        "  \n",
        "  \n",
        "  user_response = user_response.lower()\n",
        "  robo_response = ''\n",
        "  sent_tokens.append(user_response)\n",
        "  # print(sent_tokens)\n",
        "  tfidf_vectorizer = TfidfVectorizer(tokenizer = LemNormalize, stop_words = 'english') #convert the text into the matrix of TF-IDF features\n",
        "  tfidf = tfidf_vectorizer.fit_transform(sent_tokens)\n",
        "  # print((tfidf_vectorizer.get_feature_names_out()))\n",
        "  # print(tfidf[-1])\n",
        "  # print(\"The tfidf matrix is: \\n\",tfidf)\n",
        "\n",
        "  #get similiarity score. here val is numpy array\n",
        "  val = cosine_similarity(tfidf[-1], tfidf) #tfidf[-1] gives the matrix of the last row\n",
        "  #this will compare the similiarity between the last record(user response) with all the other records in sentence tokens.\n",
        "  \n",
        "  idx = val.argsort() #this will return the index value of the sorted similiarity scores(val)\n",
        "  # print(val[0][idx])\n",
        "  idx = idx[0][-2] #idx[0][-1] represents the user response as user_response is also pushed to sent_tokens\n",
        "  flat = val.flatten()  #converting into 1D array\n",
        "  flat.sort()\n",
        "  score = flat[-2]\n",
        "  # print(score)\n",
        "  warnings.filterwarnings(\"ignore\")\n",
        "  if score == 0:\n",
        "    robo_response = \"Sorry, I don't understand\"\n",
        "  else:\n",
        "    robo_response = sent_tokens[idx] \n",
        "  sent_tokens.remove(user_response)\n",
        "  return robo_response\n",
        "\n",
        "print(response(\"What is Artificial Intelligence\"))"
      ],
      "metadata": {
        "colab": {
          "base_uri": "https://localhost:8080/"
        },
        "id": "XiMWch9w0kxb",
        "outputId": "f4dc3d0b-e227-432a-f039-fc9e887bbf74"
      },
      "execution_count": 195,
      "outputs": [
        {
          "output_type": "stream",
          "name": "stdout",
          "text": [
            "there are several competing ideas about how to develop artificial general intelligence.\n"
          ]
        }
      ]
    },
    {
      "cell_type": "code",
      "source": [
        "\n",
        "print(\"Robo: Hello!, how can i help you?. Type bye to exit.\\n\")\n",
        "flag = True\n",
        "while(flag == True):\n",
        "  user_response = input('Me: ')\n",
        "  if (greeting(user_response)!= None):\n",
        "    print(\"Robo: \"+ greeting(user_response))\n",
        "  elif (exit_robo(user_response)!= None):\n",
        "    print(\"Robo: \"+ exit_robo(user_response))\n",
        "    flag = False\n",
        "  else:\n",
        "    print(response(user_response))\n",
        "\n",
        "  "
      ],
      "metadata": {
        "colab": {
          "base_uri": "https://localhost:8080/"
        },
        "id": "GY_2EKQr9Cbo",
        "outputId": "b932afc1-19cf-4b3c-e3e3-a7920c390a12"
      },
      "execution_count": 196,
      "outputs": [
        {
          "output_type": "stream",
          "name": "stdout",
          "text": [
            "Robo: Hello!, how can i help you?. Type bye to exit.\n",
            "\n",
            "Me: Hi\n",
            "Robo: Hey!\n",
            "Me: Neural Network\n",
            "neural networks can be viewed as a type of mathematical optimization – they perform gradient descent on a multi-dimensional topology that was created by training the network.\n",
            "Me: Deep Learning\n",
            "deep learning often uses convolutional neural networks for many or all of its layers.\n",
            "Me: Artificial Intelligence\n",
            "there are several competing ideas about how to develop artificial general intelligence.\n",
            "Me: AI\n",
            "the next few years would later be called an \"ai winter\", a period when obtaining funding for ai projects was difficult.\n",
            "Me: what is supervised learning\n",
            "in supervised learning, each pattern belongs to a certain predefined class.\n",
            "Me: what is unsupervised learning\n",
            "[k]\n",
            "\n",
            "unsupervised learning finds patterns in a stream of input.\n",
            "Me: what is reinforcement learning\n",
            "[67]\n",
            "\n",
            "in reinforcement learning the agent is rewarded for good responses and punished for bad ones.\n",
            "Me: what is transfer learning\n",
            "[68]\n",
            "\n",
            "transfer learning is when the knowledge gained from one problem is applied to a new problem.\n",
            "Me: byee\n",
            "Robo: Thanks!\n"
          ]
        }
      ]
    },
    {
      "cell_type": "code",
      "source": [],
      "metadata": {
        "id": "sg2mRdIB9DGK"
      },
      "execution_count": 164,
      "outputs": []
    },
    {
      "cell_type": "code",
      "source": [],
      "metadata": {
        "id": "FjgQYDRpR3fz"
      },
      "execution_count": null,
      "outputs": []
    }
  ]
}